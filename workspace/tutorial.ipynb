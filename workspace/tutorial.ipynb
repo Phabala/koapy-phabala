{
 "cells": [
  {
   "attachments": {},
   "cell_type": "markdown",
   "metadata": {},
   "source": [
    "# 키움증권 OpenAPI+ 사용 예시"
   ]
  },
  {
   "cell_type": "code",
   "execution_count": 1,
   "metadata": {},
   "outputs": [],
   "source": [
    "import platform\n",
    "\n",
    "assert platform.architecture()[0] == '32bit'"
   ]
  },
  {
   "cell_type": "code",
   "execution_count": 2,
   "metadata": {},
   "outputs": [],
   "source": [
    "import numpy as np\n",
    "import pandas as pd"
   ]
  },
  {
   "cell_type": "code",
   "execution_count": 3,
   "metadata": {},
   "outputs": [],
   "source": [
    "import matplotlib.pyplot as plt"
   ]
  },
  {
   "cell_type": "code",
   "execution_count": 4,
   "metadata": {},
   "outputs": [],
   "source": [
    "%matplotlib inline"
   ]
  },
  {
   "cell_type": "code",
   "execution_count": 5,
   "metadata": {},
   "outputs": [],
   "source": [
    "import logging"
   ]
  },
  {
   "cell_type": "code",
   "execution_count": 6,
   "metadata": {},
   "outputs": [],
   "source": [
    "logging.basicConfig(\n",
    "  format='%(asctime)s [%(levelname)s] %(message)s - %(filename)s:%(lineno)d',\n",
    "  level=logging.DEBUG)"
   ]
  },
  {
   "cell_type": "code",
   "execution_count": 7,
   "metadata": {},
   "outputs": [],
   "source": [
    "logging.getLogger('matplotlib').setLevel(logging.WARNING)"
   ]
  },
  {
   "attachments": {},
   "cell_type": "markdown",
   "metadata": {},
   "source": [
    "## 1. 엔트리포인트 객체 생성"
   ]
  },
  {
   "cell_type": "code",
   "execution_count": 8,
   "metadata": {},
   "outputs": [
    {
     "name": "stderr",
     "output_type": "stream",
     "text": [
      "c:\\Users\\kihon\\miniconda3\\envs\\py32\\lib\\site-packages\\tqdm\\auto.py:21: TqdmWarning: IProgress not found. Please update jupyter and ipywidgets. See https://ipywidgets.readthedocs.io/en/stable/user_install.html\n",
      "  from .autonotebook import tqdm as notebook_tqdm\n"
     ]
    }
   ],
   "source": [
    "from koapy import KiwoomOpenApiPlusEntrypoint"
   ]
  },
  {
   "cell_type": "code",
   "execution_count": 9,
   "metadata": {},
   "outputs": [
    {
     "name": "stderr",
     "output_type": "stream",
     "text": [
      "2023-04-25 15:51:28,884 [DEBUG] Testing if client is ready... - KiwoomOpenApiPlusEntrypoint.py:45\n",
      "2023-04-25 15:51:38,905 [DEBUG] Client is not ready - KiwoomOpenApiPlusEntrypoint.py:47\n",
      "2023-04-25 15:51:38,905 [DEBUG] Creating a new server... - KiwoomOpenApiPlusEntrypoint.py:48\n"
     ]
    }
   ],
   "source": [
    "entrypoint = KiwoomOpenApiPlusEntrypoint()"
   ]
  },
  {
   "attachments": {},
   "cell_type": "markdown",
   "metadata": {},
   "source": [
    "주요한 기능들은 해당 엔트리포인트의 멤버함수로써 제공된다.\n",
    "\n",
    "예를 들어 아래와 같이 서버 접속 이전에도 실행 가능한 아래 함수를 활용하면 OpenAPI 가 정상적으로 로드되었는지 간접적으로 확인 가능하다."
   ]
  },
  {
   "cell_type": "code",
   "execution_count": 10,
   "metadata": {},
   "outputs": [],
   "source": [
    "module_path = entrypoint.GetAPIModulePath()"
   ]
  },
  {
   "cell_type": "code",
   "execution_count": 11,
   "metadata": {},
   "outputs": [
    {
     "data": {
      "text/plain": [
       "'C:\\\\OpenAPI'"
      ]
     },
     "execution_count": 11,
     "metadata": {},
     "output_type": "execute_result"
    }
   ],
   "source": [
    "module_path"
   ]
  },
  {
   "attachments": {},
   "cell_type": "markdown",
   "metadata": {},
   "source": [
    "## 2. 서버 접속"
   ]
  },
  {
   "cell_type": "code",
   "execution_count": 12,
   "metadata": {},
   "outputs": [
    {
     "data": {
      "text/plain": [
       "True"
      ]
     },
     "execution_count": 12,
     "metadata": {},
     "output_type": "execute_result"
    }
   ],
   "source": [
    "entrypoint.EnsureConnected()"
   ]
  },
  {
   "attachments": {},
   "cell_type": "markdown",
   "metadata": {},
   "source": [
    "자동 로그인 설정이 되어있는 경우 로그인이 자동으로 처리되며, 그렇지 않은 경우에는 수동으로 아이디, 비밀번호 등 로그인 정보를 입력해 처리해주어야 한다.\n",
    "\n",
    "만약에 함수 인자로 `credentials` 정보를 주는 경우 `pywinauto` 를 활용하여 자동으로 로그인 처리를 실행한다. 앞서 언급한 키움증권에서 기본으로 제공하는 자동 로그인이 아니라 기존에 수동으로 처리하던 과정을 매크로 형태로 자동으로 처리하는 방식이다. 참고로 `pywinauto` 사용을 위해서는 **관리자 권한**이 필요하다."
   ]
  },
  {
   "cell_type": "code",
   "execution_count": 13,
   "metadata": {},
   "outputs": [],
   "source": [
    "credentials = {\n",
    "    'user_id': 'id',\n",
    "    'user_password': 'password',\n",
    "    'cert_password': 'password',\n",
    "    'is_simulation': True,\n",
    "    'account_passwords': {\n",
    "        '0000000000' : '0000',\n",
    "    }\n",
    "}"
   ]
  },
  {
   "cell_type": "code",
   "execution_count": 14,
   "metadata": {},
   "outputs": [
    {
     "data": {
      "text/plain": [
       "True"
      ]
     },
     "execution_count": 14,
     "metadata": {},
     "output_type": "execute_result"
    }
   ],
   "source": [
    "entrypoint.EnsureConnected(credentials)"
   ]
  },
  {
   "attachments": {},
   "cell_type": "markdown",
   "metadata": {},
   "source": [
    "참고로 여기서는 이미 로그인이 되어있는 상황이므로 위의 함수가 추가적인 로그인처리를 진행하지는 않게 된다."
   ]
  },
  {
   "attachments": {},
   "cell_type": "markdown",
   "metadata": {},
   "source": [
    "## 3. 기본 함수 실행"
   ]
  },
  {
   "attachments": {},
   "cell_type": "markdown",
   "metadata": {},
   "source": [
    "다시 한번 기본 함수를 통해 접속상태를 확인해보자. 아래 값이 1 인 경우 정상 접속 상태이다. 접속되어 있지 않은 경우라면 0을 반환한다."
   ]
  },
  {
   "cell_type": "code",
   "execution_count": 15,
   "metadata": {},
   "outputs": [
    {
     "data": {
      "text/plain": [
       "1"
      ]
     },
     "execution_count": 15,
     "metadata": {},
     "output_type": "execute_result"
    }
   ],
   "source": [
    "entrypoint.GetConnectState()"
   ]
  },
  {
   "attachments": {},
   "cell_type": "markdown",
   "metadata": {},
   "source": [
    "이후 예시들에서 사용하기 위해 삼성전자의 코드를 확인한다."
   ]
  },
  {
   "cell_type": "code",
   "execution_count": 16,
   "metadata": {},
   "outputs": [],
   "source": [
    "codes = entrypoint.GetCodeListByMarketAsList('0')\n",
    "names = [entrypoint.GetMasterCodeName(code) for code in codes]"
   ]
  },
  {
   "cell_type": "code",
   "execution_count": 17,
   "metadata": {},
   "outputs": [],
   "source": [
    "codes_by_name = dict(zip(names, codes))"
   ]
  },
  {
   "attachments": {},
   "cell_type": "markdown",
   "metadata": {},
   "source": [
    "위에서 `GetCodeListByMarketAsList()` 함수는 기존의 `GetCodeListByMarket()` 함수 호출시 나오는 문자열 형태의 결과를 편의를 위해 리스트 형태로 변환해서 제공한다."
   ]
  },
  {
   "cell_type": "code",
   "execution_count": 18,
   "metadata": {},
   "outputs": [],
   "source": [
    "code = samsung_code = codes_by_name['삼성전자']"
   ]
  },
  {
   "cell_type": "code",
   "execution_count": 19,
   "metadata": {},
   "outputs": [
    {
     "data": {
      "text/plain": [
       "'005930'"
      ]
     },
     "execution_count": 19,
     "metadata": {},
     "output_type": "execute_result"
    }
   ],
   "source": [
    "code"
   ]
  },
  {
   "attachments": {},
   "cell_type": "markdown",
   "metadata": {},
   "source": [
    "## 4. TR 요청 예시"
   ]
  },
  {
   "attachments": {},
   "cell_type": "markdown",
   "metadata": {},
   "source": [
    "### 상위 함수 사용 예시\n",
    "\n",
    "몇가지 자주 쓰이는 TR 들에 대해서는 요청 및 결과 이벤트 처리까지 완료해서 결과물만 반환하는 상위함수를 제공하고 있다."
   ]
  },
  {
   "cell_type": "code",
   "execution_count": 20,
   "metadata": {},
   "outputs": [],
   "source": [
    "info = entrypoint.GetStockBasicInfoAsDict(code) # opt10001"
   ]
  },
  {
   "cell_type": "code",
   "execution_count": 21,
   "metadata": {},
   "outputs": [
    {
     "data": {
      "text/plain": [
       "{'종목코드': '005930',\n",
       " '종목명': '삼성전자',\n",
       " '결산월': '12',\n",
       " '액면가': '100',\n",
       " '자본금': '7780',\n",
       " '상장주식': '5969783',\n",
       " '신용비율': '+0.06',\n",
       " '연중최고': '+66600',\n",
       " '연중최저': '-54500',\n",
       " '시가총액': '3796782',\n",
       " '시가총액비중': '',\n",
       " '외인소진률': '+51.70',\n",
       " '대용가': '52160',\n",
       " 'PER': '7.89',\n",
       " 'EPS': '8057',\n",
       " 'ROE': '17.1',\n",
       " 'PBR': '1.25',\n",
       " 'EV': '3.33',\n",
       " 'BPS': '50817',\n",
       " '매출액': '3022314',\n",
       " '영업이익': '433766',\n",
       " '당기순이익': '556541',\n",
       " '250최고': '+68800',\n",
       " '250최저': '-51800',\n",
       " '시가': '+65300',\n",
       " '고가': '+65400',\n",
       " '저가': '-63400',\n",
       " '상한가': '+84700',\n",
       " '하한가': '-45700',\n",
       " '기준가': '65200',\n",
       " '예상체결가': '-0',\n",
       " '예상체결수량': '0',\n",
       " '250최고가일': '20220523',\n",
       " '250최고가대비율': '-7.56',\n",
       " '250최저가일': '20220930',\n",
       " '250최저가대비율': '+22.78',\n",
       " '현재가': '-63600',\n",
       " '대비기호': '5',\n",
       " '전일대비': '-1600',\n",
       " '등락율': '-2.45',\n",
       " '거래량': '16054402',\n",
       " '거래대비': '+123.62',\n",
       " '액면가단위': '원',\n",
       " '유통주식': '4526429',\n",
       " '유통비율': '75.8'}"
      ]
     },
     "execution_count": 21,
     "metadata": {},
     "output_type": "execute_result"
    }
   ],
   "source": [
    "info"
   ]
  },
  {
   "cell_type": "code",
   "execution_count": 22,
   "metadata": {},
   "outputs": [
    {
     "name": "stderr",
     "output_type": "stream",
     "text": [
      "2023-04-25 15:52:23,517 [DEBUG] Received 600 records from 2023-04-25 00:00:00 to 2020-11-23 00:00:00 for code 005930 - KiwoomOpenApiPlusServiceClientStubWrapper.py:718\n",
      "2023-04-25 15:52:23,770 [DEBUG] Received 600 records from 2020-11-20 00:00:00 to 2018-06-18 00:00:00 for code 005930 - KiwoomOpenApiPlusServiceClientStubWrapper.py:718\n",
      "2023-04-25 15:52:24,017 [DEBUG] Received 600 records from 2018-06-15 00:00:00 to 2016-01-04 00:00:00 for code 005930 - KiwoomOpenApiPlusServiceClientStubWrapper.py:718\n",
      "2023-04-25 15:52:24,268 [DEBUG] Received 600 records from 2015-12-30 00:00:00 to 2013-07-24 00:00:00 for code 005930 - KiwoomOpenApiPlusServiceClientStubWrapper.py:718\n",
      "2023-04-25 15:52:41,415 [DEBUG] Received 600 records from 2013-07-23 00:00:00 to 2011-02-25 00:00:00 for code 005930 - KiwoomOpenApiPlusServiceClientStubWrapper.py:718\n",
      "2023-04-25 15:52:41,710 [DEBUG] Received 600 records from 2011-02-24 00:00:00 to 2008-10-07 00:00:00 for code 005930 - KiwoomOpenApiPlusServiceClientStubWrapper.py:718\n",
      "2023-04-25 15:52:42,006 [DEBUG] Received 600 records from 2008-10-06 00:00:00 to 2006-04-27 00:00:00 for code 005930 - KiwoomOpenApiPlusServiceClientStubWrapper.py:718\n",
      "2023-04-25 15:52:42,301 [DEBUG] Received 600 records from 2006-04-26 00:00:00 to 2003-12-01 00:00:00 for code 005930 - KiwoomOpenApiPlusServiceClientStubWrapper.py:718\n",
      "2023-04-25 15:52:42,591 [DEBUG] Received 600 records from 2003-11-28 00:00:00 to 2001-06-22 00:00:00 for code 005930 - KiwoomOpenApiPlusServiceClientStubWrapper.py:718\n",
      "2023-04-25 15:52:59,525 [DEBUG] Received 600 records from 2001-06-21 00:00:00 to 1999-01-12 00:00:00 for code 005930 - KiwoomOpenApiPlusServiceClientStubWrapper.py:718\n",
      "2023-04-25 15:52:59,774 [DEBUG] Received 600 records from 1999-01-11 00:00:00 to 1996-12-16 00:00:00 for code 005930 - KiwoomOpenApiPlusServiceClientStubWrapper.py:718\n",
      "2023-04-25 15:53:00,025 [DEBUG] Received 600 records from 1996-12-14 00:00:00 to 1994-12-01 00:00:00 for code 005930 - KiwoomOpenApiPlusServiceClientStubWrapper.py:718\n",
      "2023-04-25 15:53:00,260 [DEBUG] Received 600 records from 1994-11-30 00:00:00 to 1992-11-19 00:00:00 for code 005930 - KiwoomOpenApiPlusServiceClientStubWrapper.py:718\n",
      "2023-04-25 15:53:00,587 [DEBUG] Received 600 records from 1992-11-18 00:00:00 to 1990-11-02 00:00:00 for code 005930 - KiwoomOpenApiPlusServiceClientStubWrapper.py:718\n",
      "2023-04-25 15:53:17,388 [DEBUG] Received 600 records from 1990-11-01 00:00:00 to 1988-10-11 00:00:00 for code 005930 - KiwoomOpenApiPlusServiceClientStubWrapper.py:718\n",
      "2023-04-25 15:53:17,791 [DEBUG] Received 600 records from 1988-10-10 00:00:00 to 1986-09-17 00:00:00 for code 005930 - KiwoomOpenApiPlusServiceClientStubWrapper.py:718\n",
      "2023-04-25 15:53:18,005 [DEBUG] Received 505 records from 1986-09-16 00:00:00 to 1985-01-04 00:00:00 for code 005930 - KiwoomOpenApiPlusServiceClientStubWrapper.py:718\n"
     ]
    }
   ],
   "source": [
    "data = entrypoint.GetDailyStockDataAsDataFrame(code) # opt10081"
   ]
  },
  {
   "cell_type": "code",
   "execution_count": 23,
   "metadata": {},
   "outputs": [
    {
     "data": {
      "text/html": [
       "<div>\n",
       "<style scoped>\n",
       "    .dataframe tbody tr th:only-of-type {\n",
       "        vertical-align: middle;\n",
       "    }\n",
       "\n",
       "    .dataframe tbody tr th {\n",
       "        vertical-align: top;\n",
       "    }\n",
       "\n",
       "    .dataframe thead th {\n",
       "        text-align: right;\n",
       "    }\n",
       "</style>\n",
       "<table border=\"1\" class=\"dataframe\">\n",
       "  <thead>\n",
       "    <tr style=\"text-align: right;\">\n",
       "      <th></th>\n",
       "      <th>종목코드</th>\n",
       "      <th>현재가</th>\n",
       "      <th>거래량</th>\n",
       "      <th>거래대금</th>\n",
       "      <th>일자</th>\n",
       "      <th>시가</th>\n",
       "      <th>고가</th>\n",
       "      <th>저가</th>\n",
       "      <th>수정주가구분</th>\n",
       "      <th>수정비율</th>\n",
       "      <th>대업종구분</th>\n",
       "      <th>소업종구분</th>\n",
       "      <th>종목정보</th>\n",
       "      <th>수정주가이벤트</th>\n",
       "      <th>전일종가</th>\n",
       "    </tr>\n",
       "  </thead>\n",
       "  <tbody>\n",
       "    <tr>\n",
       "      <th>0</th>\n",
       "      <td>005930</td>\n",
       "      <td>63600</td>\n",
       "      <td>16054402</td>\n",
       "      <td>1030672</td>\n",
       "      <td>20230425</td>\n",
       "      <td>65300</td>\n",
       "      <td>65400</td>\n",
       "      <td>63400</td>\n",
       "      <td></td>\n",
       "      <td></td>\n",
       "      <td></td>\n",
       "      <td></td>\n",
       "      <td></td>\n",
       "      <td></td>\n",
       "      <td></td>\n",
       "    </tr>\n",
       "    <tr>\n",
       "      <th>1</th>\n",
       "      <td></td>\n",
       "      <td>65200</td>\n",
       "      <td>12986581</td>\n",
       "      <td>846721</td>\n",
       "      <td>20230424</td>\n",
       "      <td>65300</td>\n",
       "      <td>65700</td>\n",
       "      <td>64800</td>\n",
       "      <td></td>\n",
       "      <td></td>\n",
       "      <td></td>\n",
       "      <td></td>\n",
       "      <td></td>\n",
       "      <td></td>\n",
       "      <td></td>\n",
       "    </tr>\n",
       "    <tr>\n",
       "      <th>2</th>\n",
       "      <td></td>\n",
       "      <td>65700</td>\n",
       "      <td>10538622</td>\n",
       "      <td>691721</td>\n",
       "      <td>20230421</td>\n",
       "      <td>65800</td>\n",
       "      <td>65900</td>\n",
       "      <td>65400</td>\n",
       "      <td></td>\n",
       "      <td></td>\n",
       "      <td></td>\n",
       "      <td></td>\n",
       "      <td></td>\n",
       "      <td></td>\n",
       "      <td></td>\n",
       "    </tr>\n",
       "    <tr>\n",
       "      <th>3</th>\n",
       "      <td></td>\n",
       "      <td>65300</td>\n",
       "      <td>9501169</td>\n",
       "      <td>618181</td>\n",
       "      <td>20230420</td>\n",
       "      <td>65100</td>\n",
       "      <td>65300</td>\n",
       "      <td>64600</td>\n",
       "      <td></td>\n",
       "      <td></td>\n",
       "      <td></td>\n",
       "      <td></td>\n",
       "      <td></td>\n",
       "      <td></td>\n",
       "      <td></td>\n",
       "    </tr>\n",
       "    <tr>\n",
       "      <th>4</th>\n",
       "      <td></td>\n",
       "      <td>65500</td>\n",
       "      <td>10255985</td>\n",
       "      <td>672185</td>\n",
       "      <td>20230419</td>\n",
       "      <td>65500</td>\n",
       "      <td>65800</td>\n",
       "      <td>65300</td>\n",
       "      <td></td>\n",
       "      <td></td>\n",
       "      <td></td>\n",
       "      <td></td>\n",
       "      <td></td>\n",
       "      <td></td>\n",
       "      <td></td>\n",
       "    </tr>\n",
       "    <tr>\n",
       "      <th>...</th>\n",
       "      <td>...</td>\n",
       "      <td>...</td>\n",
       "      <td>...</td>\n",
       "      <td>...</td>\n",
       "      <td>...</td>\n",
       "      <td>...</td>\n",
       "      <td>...</td>\n",
       "      <td>...</td>\n",
       "      <td>...</td>\n",
       "      <td>...</td>\n",
       "      <td>...</td>\n",
       "      <td>...</td>\n",
       "      <td>...</td>\n",
       "      <td>...</td>\n",
       "      <td>...</td>\n",
       "    </tr>\n",
       "    <tr>\n",
       "      <th>10100</th>\n",
       "      <td></td>\n",
       "      <td>8010</td>\n",
       "      <td>4970</td>\n",
       "      <td>1</td>\n",
       "      <td>19850109</td>\n",
       "      <td>8240</td>\n",
       "      <td>8240</td>\n",
       "      <td>7950</td>\n",
       "      <td></td>\n",
       "      <td></td>\n",
       "      <td></td>\n",
       "      <td></td>\n",
       "      <td></td>\n",
       "      <td></td>\n",
       "      <td></td>\n",
       "    </tr>\n",
       "    <tr>\n",
       "      <th>10101</th>\n",
       "      <td></td>\n",
       "      <td>8300</td>\n",
       "      <td>12930</td>\n",
       "      <td>4</td>\n",
       "      <td>19850108</td>\n",
       "      <td>8400</td>\n",
       "      <td>8400</td>\n",
       "      <td>8300</td>\n",
       "      <td></td>\n",
       "      <td></td>\n",
       "      <td></td>\n",
       "      <td></td>\n",
       "      <td></td>\n",
       "      <td></td>\n",
       "      <td></td>\n",
       "    </tr>\n",
       "    <tr>\n",
       "      <th>10102</th>\n",
       "      <td></td>\n",
       "      <td>8410</td>\n",
       "      <td>11810</td>\n",
       "      <td>3</td>\n",
       "      <td>19850107</td>\n",
       "      <td>8400</td>\n",
       "      <td>8500</td>\n",
       "      <td>8390</td>\n",
       "      <td></td>\n",
       "      <td></td>\n",
       "      <td></td>\n",
       "      <td></td>\n",
       "      <td></td>\n",
       "      <td></td>\n",
       "      <td></td>\n",
       "    </tr>\n",
       "    <tr>\n",
       "      <th>10103</th>\n",
       "      <td></td>\n",
       "      <td>8390</td>\n",
       "      <td>1660</td>\n",
       "      <td>0</td>\n",
       "      <td>19850105</td>\n",
       "      <td>8400</td>\n",
       "      <td>8440</td>\n",
       "      <td>8390</td>\n",
       "      <td></td>\n",
       "      <td></td>\n",
       "      <td></td>\n",
       "      <td></td>\n",
       "      <td></td>\n",
       "      <td></td>\n",
       "      <td></td>\n",
       "    </tr>\n",
       "    <tr>\n",
       "      <th>10104</th>\n",
       "      <td></td>\n",
       "      <td>8450</td>\n",
       "      <td>1710</td>\n",
       "      <td>0</td>\n",
       "      <td>19850104</td>\n",
       "      <td>8500</td>\n",
       "      <td>8500</td>\n",
       "      <td>8450</td>\n",
       "      <td></td>\n",
       "      <td></td>\n",
       "      <td></td>\n",
       "      <td></td>\n",
       "      <td></td>\n",
       "      <td></td>\n",
       "      <td></td>\n",
       "    </tr>\n",
       "  </tbody>\n",
       "</table>\n",
       "<p>10105 rows × 15 columns</p>\n",
       "</div>"
      ],
      "text/plain": [
       "         종목코드    현재가       거래량     거래대금        일자     시가     고가     저가 수정주가구분  \\\n",
       "0      005930  63600  16054402  1030672  20230425  65300  65400  63400          \n",
       "1              65200  12986581   846721  20230424  65300  65700  64800          \n",
       "2              65700  10538622   691721  20230421  65800  65900  65400          \n",
       "3              65300   9501169   618181  20230420  65100  65300  64600          \n",
       "4              65500  10255985   672185  20230419  65500  65800  65300          \n",
       "...       ...    ...       ...      ...       ...    ...    ...    ...    ...   \n",
       "10100           8010      4970        1  19850109   8240   8240   7950          \n",
       "10101           8300     12930        4  19850108   8400   8400   8300          \n",
       "10102           8410     11810        3  19850107   8400   8500   8390          \n",
       "10103           8390      1660        0  19850105   8400   8440   8390          \n",
       "10104           8450      1710        0  19850104   8500   8500   8450          \n",
       "\n",
       "      수정비율 대업종구분 소업종구분 종목정보 수정주가이벤트 전일종가  \n",
       "0                                         \n",
       "1                                         \n",
       "2                                         \n",
       "3                                         \n",
       "4                                         \n",
       "...    ...   ...   ...  ...     ...  ...  \n",
       "10100                                     \n",
       "10101                                     \n",
       "10102                                     \n",
       "10103                                     \n",
       "10104                                     \n",
       "\n",
       "[10105 rows x 15 columns]"
      ]
     },
     "execution_count": 23,
     "metadata": {},
     "output_type": "execute_result"
    }
   ],
   "source": [
    "data"
   ]
  },
  {
   "attachments": {},
   "cell_type": "markdown",
   "metadata": {},
   "source": [
    "데이터가 최대한 있는 그대로 (주로 문자열 형태로) 반환되기 때문에 필요하다면 타입 변환을 거쳐 사용한다."
   ]
  },
  {
   "cell_type": "code",
   "execution_count": 24,
   "metadata": {},
   "outputs": [],
   "source": [
    "dates = pd.to_datetime(data['일자'], format='%Y%m%d')\n",
    "closes = pd.to_numeric(data['현재가'])"
   ]
  },
  {
   "cell_type": "code",
   "execution_count": 25,
   "metadata": {},
   "outputs": [
    {
     "data": {
      "text/plain": [
       "[<matplotlib.lines.Line2D at 0xeaa700>]"
      ]
     },
     "execution_count": 25,
     "metadata": {},
     "output_type": "execute_result"
    },
    {
     "data": {
      "image/png": "[encoded data removed]",
      "text/plain": [
       "<Figure size 640x480 with 1 Axes>"
      ]
     },
     "metadata": {},
     "output_type": "display_data"
    }
   ],
   "source": [
    "plt.plot(dates, closes)"
   ]
  },
  {
   "attachments": {},
   "cell_type": "markdown",
   "metadata": {},
   "source": [
    "주가 데이터에서 수정주가가 필요한 경우에는 `adjusted_price=True` 파라미터를 설정해 호출한다."
   ]
  },
  {
   "cell_type": "code",
   "execution_count": 26,
   "metadata": {},
   "outputs": [
    {
     "name": "stderr",
     "output_type": "stream",
     "text": [
      "2023-04-25 15:53:18,646 [DEBUG] Received 600 records from 2023-04-25 00:00:00 to 2020-11-23 00:00:00 for code 005930 - KiwoomOpenApiPlusServiceClientStubWrapper.py:718\n",
      "2023-04-25 15:53:18,908 [DEBUG] Received 600 records from 2020-11-20 00:00:00 to 2018-06-18 00:00:00 for code 005930 - KiwoomOpenApiPlusServiceClientStubWrapper.py:718\n",
      "2023-04-25 15:53:35,430 [DEBUG] Received 600 records from 2018-06-15 00:00:00 to 2016-01-04 00:00:00 for code 005930 - KiwoomOpenApiPlusServiceClientStubWrapper.py:718\n",
      "2023-04-25 15:53:35,826 [DEBUG] Received 600 records from 2015-12-30 00:00:00 to 2013-07-24 00:00:00 for code 005930 - KiwoomOpenApiPlusServiceClientStubWrapper.py:718\n",
      "2023-04-25 15:53:36,089 [DEBUG] Received 600 records from 2013-07-23 00:00:00 to 2011-02-25 00:00:00 for code 005930 - KiwoomOpenApiPlusServiceClientStubWrapper.py:718\n",
      "2023-04-25 15:53:36,680 [DEBUG] Received 600 records from 2011-02-24 00:00:00 to 2008-10-07 00:00:00 for code 005930 - KiwoomOpenApiPlusServiceClientStubWrapper.py:718\n",
      "2023-04-25 15:53:36,941 [DEBUG] Received 600 records from 2008-10-06 00:00:00 to 2006-04-27 00:00:00 for code 005930 - KiwoomOpenApiPlusServiceClientStubWrapper.py:718\n",
      "2023-04-25 15:53:53,391 [DEBUG] Received 600 records from 2006-04-26 00:00:00 to 2003-12-01 00:00:00 for code 005930 - KiwoomOpenApiPlusServiceClientStubWrapper.py:718\n",
      "2023-04-25 15:53:53,805 [DEBUG] Received 600 records from 2003-11-28 00:00:00 to 2001-06-22 00:00:00 for code 005930 - KiwoomOpenApiPlusServiceClientStubWrapper.py:718\n",
      "2023-04-25 15:53:54,107 [DEBUG] Received 600 records from 2001-06-21 00:00:00 to 1999-01-12 00:00:00 for code 005930 - KiwoomOpenApiPlusServiceClientStubWrapper.py:718\n",
      "2023-04-25 15:53:54,671 [DEBUG] Received 600 records from 1999-01-11 00:00:00 to 1996-12-16 00:00:00 for code 005930 - KiwoomOpenApiPlusServiceClientStubWrapper.py:718\n",
      "2023-04-25 15:53:54,924 [DEBUG] Received 600 records from 1996-12-14 00:00:00 to 1994-12-01 00:00:00 for code 005930 - KiwoomOpenApiPlusServiceClientStubWrapper.py:718\n",
      "2023-04-25 15:54:11,388 [DEBUG] Received 600 records from 1994-11-30 00:00:00 to 1992-11-19 00:00:00 for code 005930 - KiwoomOpenApiPlusServiceClientStubWrapper.py:718\n",
      "2023-04-25 15:54:11,821 [DEBUG] Received 600 records from 1992-11-18 00:00:00 to 1990-11-02 00:00:00 for code 005930 - KiwoomOpenApiPlusServiceClientStubWrapper.py:718\n",
      "2023-04-25 15:54:12,083 [DEBUG] Received 600 records from 1990-11-01 00:00:00 to 1988-10-11 00:00:00 for code 005930 - KiwoomOpenApiPlusServiceClientStubWrapper.py:718\n",
      "2023-04-25 15:54:12,683 [DEBUG] Received 600 records from 1988-10-10 00:00:00 to 1986-09-17 00:00:00 for code 005930 - KiwoomOpenApiPlusServiceClientStubWrapper.py:718\n",
      "2023-04-25 15:54:12,885 [DEBUG] Received 505 records from 1986-09-16 00:00:00 to 1985-01-04 00:00:00 for code 005930 - KiwoomOpenApiPlusServiceClientStubWrapper.py:718\n"
     ]
    }
   ],
   "source": [
    "data_adjusted = entrypoint.GetDailyStockDataAsDataFrame(code, adjusted_price=True)"
   ]
  },
  {
   "cell_type": "code",
   "execution_count": 27,
   "metadata": {},
   "outputs": [],
   "source": [
    "dates = pd.to_datetime(data_adjusted['일자'], format='%Y%m%d')\n",
    "closes = pd.to_numeric(data_adjusted['현재가'])"
   ]
  },
  {
   "cell_type": "code",
   "execution_count": 28,
   "metadata": {},
   "outputs": [
    {
     "data": {
      "text/plain": [
       "[<matplotlib.lines.Line2D at 0x1130a30>]"
      ]
     },
     "execution_count": 28,
     "metadata": {},
     "output_type": "execute_result"
    },
    {
     "data": {
      "image/png": "[encoded data removed]",
      "text/plain": [
       "<Figure size 640x480 with 1 Axes>"
      ]
     },
     "metadata": {},
     "output_type": "display_data"
    }
   ],
   "source": [
    "plt.plot(dates, closes)"
   ]
  },
  {
   "attachments": {},
   "cell_type": "markdown",
   "metadata": {},
   "source": [
    "### 하위 함수 사용 예시\n",
    "\n",
    "만약에 필요한 TR 에 대한 편의함수가 제공되지 않는 경우라면 아래처럼 직접 TR 요청에 필요한 입력값을 설정해 요청하고, 이후 스트림 형태로 들어오는 이벤트 또한 직접 처리해주는 방식으로 사용할 수 있다."
   ]
  },
  {
   "cell_type": "code",
   "execution_count": 29,
   "metadata": {},
   "outputs": [],
   "source": [
    "rqname = '주식기본정보요청'\n",
    "trcode = 'opt10001'\n",
    "screen_no = '0001' # 화면번호, 0000을 제외한 4자리 숫자 임의로 지정, None 의 경우 내부적으로 화면번호 자동할당\n",
    "inputs = {'종목코드': code}"
   ]
  },
  {
   "cell_type": "code",
   "execution_count": 30,
   "metadata": {},
   "outputs": [],
   "source": [
    "output = {}"
   ]
  },
  {
   "cell_type": "code",
   "execution_count": 31,
   "metadata": {},
   "outputs": [
    {
     "name": "stderr",
     "output_type": "stream",
     "text": [
      "2023-04-25 15:54:13,180 [INFO] Requesting data for request name: 주식기본정보요청 - 4145090269.py:1\n",
      "2023-04-25 15:54:29,201 [INFO] Got event for request: 주식기본정보요청 - 4145090269.py:3\n"
     ]
    }
   ],
   "source": [
    "logging.info('Requesting data for request name: %s', rqname)\n",
    "for event in entrypoint.TransactionCall(rqname, trcode, screen_no, inputs):\n",
    "    logging.info('Got event for request: %s', rqname)\n",
    "    names = event.single_data.names\n",
    "    values = event.single_data.values\n",
    "    for name, value in zip(names, values):\n",
    "        output[name] = value"
   ]
  },
  {
   "cell_type": "code",
   "execution_count": 32,
   "metadata": {},
   "outputs": [
    {
     "data": {
      "text/plain": [
       "{'종목코드': '005930',\n",
       " '종목명': '삼성전자',\n",
       " '결산월': '12',\n",
       " '액면가': '100',\n",
       " '자본금': '7780',\n",
       " '상장주식': '5969783',\n",
       " '신용비율': '+0.06',\n",
       " '연중최고': '+66600',\n",
       " '연중최저': '-54500',\n",
       " '시가총액': '3796782',\n",
       " '시가총액비중': '',\n",
       " '외인소진률': '+51.70',\n",
       " '대용가': '52160',\n",
       " 'PER': '7.89',\n",
       " 'EPS': '8057',\n",
       " 'ROE': '17.1',\n",
       " 'PBR': '1.25',\n",
       " 'EV': '3.33',\n",
       " 'BPS': '50817',\n",
       " '매출액': '3022314',\n",
       " '영업이익': '433766',\n",
       " '당기순이익': '556541',\n",
       " '250최고': '+68800',\n",
       " '250최저': '-51800',\n",
       " '시가': '+65300',\n",
       " '고가': '+65400',\n",
       " '저가': '-63400',\n",
       " '상한가': '+84700',\n",
       " '하한가': '-45700',\n",
       " '기준가': '65200',\n",
       " '예상체결가': '-0',\n",
       " '예상체결수량': '0',\n",
       " '250최고가일': '20220523',\n",
       " '250최고가대비율': '-7.56',\n",
       " '250최저가일': '20220930',\n",
       " '250최저가대비율': '+22.78',\n",
       " '현재가': '-63600',\n",
       " '대비기호': '5',\n",
       " '전일대비': '-1600',\n",
       " '등락율': '-2.45',\n",
       " '거래량': '16054416',\n",
       " '거래대비': '+123.62',\n",
       " '액면가단위': '원',\n",
       " '유통주식': '4526429',\n",
       " '유통비율': '75.8'}"
      ]
     },
     "execution_count": 32,
     "metadata": {},
     "output_type": "execute_result"
    }
   ],
   "source": [
    "output"
   ]
  },
  {
   "attachments": {},
   "cell_type": "markdown",
   "metadata": {},
   "source": [
    "위의 코드에서 `TransactionCall()` 함수의 경우 반환되는 스트림의 `event` 객체는 `ListenResponse` 타입의 `gRPC` 메시지 형태로 반환된다."
   ]
  },
  {
   "cell_type": "code",
   "execution_count": 33,
   "metadata": {},
   "outputs": [],
   "source": [
    "from pprint import PrettyPrinter\n",
    "from google.protobuf.json_format import MessageToDict\n",
    "\n",
    "pp = PrettyPrinter()\n",
    "\n",
    "def pprint_event(Event):\n",
    "    pp.pprint(MessageToDict(event, preserving_proto_field_name=True))"
   ]
  },
  {
   "cell_type": "code",
   "execution_count": 34,
   "metadata": {},
   "outputs": [
    {
     "name": "stdout",
     "output_type": "stream",
     "text": [
      "{'arguments': [{'string_value': '0001'},\n",
      "               {'string_value': '주식기본정보요청'},\n",
      "               {'string_value': 'opt10001'},\n",
      "               {'string_value': ''},\n",
      "               {'string_value': '0'}],\n",
      " 'name': 'OnReceiveTrData',\n",
      " 'single_data': {'names': ['종목코드',\n",
      "                           '종목명',\n",
      "                           '결산월',\n",
      "                           '액면가',\n",
      "                           '자본금',\n",
      "                           '상장주식',\n",
      "                           '신용비율',\n",
      "                           '연중최고',\n",
      "                           '연중최저',\n",
      "                           '시가총액',\n",
      "                           '시가총액비중',\n",
      "                           '외인소진률',\n",
      "                           '대용가',\n",
      "                           'PER',\n",
      "                           'EPS',\n",
      "                           'ROE',\n",
      "                           'PBR',\n",
      "                           'EV',\n",
      "                           'BPS',\n",
      "                           '매출액',\n",
      "                           '영업이익',\n",
      "                           '당기순이익',\n",
      "                           '250최고',\n",
      "                           '250최저',\n",
      "                           '시가',\n",
      "                           '고가',\n",
      "                           '저가',\n",
      "                           '상한가',\n",
      "                           '하한가',\n",
      "                           '기준가',\n",
      "                           '예상체결가',\n",
      "                           '예상체결수량',\n",
      "                           '250최고가일',\n",
      "                           '250최고가대비율',\n",
      "                           '250최저가일',\n",
      "                           '250최저가대비율',\n",
      "                           '현재가',\n",
      "                           '대비기호',\n",
      "                           '전일대비',\n",
      "                           '등락율',\n",
      "                           '거래량',\n",
      "                           '거래대비',\n",
      "                           '액면가단위',\n",
      "                           '유통주식',\n",
      "                           '유통비율'],\n",
      "                 'values': ['005930',\n",
      "                            '삼성전자',\n",
      "                            '12',\n",
      "                            '100',\n",
      "                            '7780',\n",
      "                            '5969783',\n",
      "                            '+0.06',\n",
      "                            '+66600',\n",
      "                            '-54500',\n",
      "                            '3796782',\n",
      "                            '',\n",
      "                            '+51.70',\n",
      "                            '52160',\n",
      "                            '7.89',\n",
      "                            '8057',\n",
      "                            '17.1',\n",
      "                            '1.25',\n",
      "                            '3.33',\n",
      "                            '50817',\n",
      "                            '3022314',\n",
      "                            '433766',\n",
      "                            '556541',\n",
      "                            '+68800',\n",
      "                            '-51800',\n",
      "                            '+65300',\n",
      "                            '+65400',\n",
      "                            '-63400',\n",
      "                            '+84700',\n",
      "                            '-45700',\n",
      "                            '65200',\n",
      "                            '-0',\n",
      "                            '0',\n",
      "                            '20220523',\n",
      "                            '-7.56',\n",
      "                            '20220930',\n",
      "                            '+22.78',\n",
      "                            '-63600',\n",
      "                            '5',\n",
      "                            '-1600',\n",
      "                            '-2.45',\n",
      "                            '16054416',\n",
      "                            '+123.62',\n",
      "                            '원',\n",
      "                            '4526429',\n",
      "                            '75.8']}}\n"
     ]
    }
   ],
   "source": [
    "pprint_event(event)"
   ]
  },
  {
   "attachments": {},
   "cell_type": "markdown",
   "metadata": {},
   "source": [
    "해당 메시지의 형태는\n",
    "https://github.com/elbakramer/koapy/blob/master/koapy/backend/kiwoom_open_api_plus/grpc/KiwoomOpenApiPlusService.proto\n",
    "파일의 내용, 구체적으로 아래와 같은 메시지의 정의 부분을 참고하기 바란다."
   ]
  },
  {
   "attachments": {},
   "cell_type": "markdown",
   "metadata": {},
   "source": [
    "```c#\n",
    "message ListenResponse {\n",
    "    string name = 1;\n",
    "    repeated Argument arguments = 2;\n",
    "    SingleData single_data = 3;\n",
    "    MultiData multi_data = 4;\n",
    "}\n",
    "```"
   ]
  },
  {
   "attachments": {},
   "cell_type": "markdown",
   "metadata": {},
   "source": [
    "각 TR 에 따라 싱글데이터/멀티데이터가 선택적으로 설정되어 반환되는데, 그러한 입력/출력과 관련된 정보들은[KOAStudio](https://download.kiwoom.com/web/openapi/kiwoom_openapi_plus_devguide_ver_1.5.pdf#page=7) 프로그램을 활용하거나 아니면 아래처럼 `KiwoomOpenApiPlusTrInfo` 를 통해 프로그램 내에서 확인할 수 있다."
   ]
  },
  {
   "cell_type": "code",
   "execution_count": 35,
   "metadata": {},
   "outputs": [],
   "source": [
    "from koapy import KiwoomOpenApiPlusTrInfo"
   ]
  },
  {
   "cell_type": "code",
   "execution_count": 36,
   "metadata": {},
   "outputs": [],
   "source": [
    "tr_info = KiwoomOpenApiPlusTrInfo.get_trinfo_by_code('opt10001')"
   ]
  },
  {
   "cell_type": "code",
   "execution_count": 37,
   "metadata": {},
   "outputs": [
    {
     "data": {
      "text/plain": [
       "[Field('종목코드', 0, 6, 9001)]"
      ]
     },
     "execution_count": 37,
     "metadata": {},
     "output_type": "execute_result"
    }
   ],
   "source": [
    "tr_info.inputs"
   ]
  },
  {
   "cell_type": "code",
   "execution_count": 38,
   "metadata": {},
   "outputs": [
    {
     "data": {
      "text/plain": [
       "[Field('종목코드', 0, 20, 389),\n",
       " Field('종목명', 20, 50, 302),\n",
       " Field('결산월', 40, 20, 315),\n",
       " Field('액면가', 60, 20, 310),\n",
       " Field('자본금', 80, 20, 309),\n",
       " Field('상장주식', 100, 20, 312),\n",
       " Field('신용비율', 120, 20, 329),\n",
       " Field('연중최고', 140, 20, 1006),\n",
       " Field('연중최저', 160, 20, 1009),\n",
       " Field('시가총액', 180, 20, 311),\n",
       " Field('시가총액비중', 200, 20, 336),\n",
       " Field('외인소진률', 220, 20, 314),\n",
       " Field('대용가', 240, 20, 308),\n",
       " Field('PER', 260, 20, 1600),\n",
       " Field('EPS', 280, 20, 1604),\n",
       " Field('ROE', 300, 20, 1630),\n",
       " Field('PBR', 320, 20, 1601),\n",
       " Field('EV', 340, 20, 1608),\n",
       " Field('BPS', 360, 20, 1605),\n",
       " Field('매출액', 380, 20, 1610),\n",
       " Field('영업이익', 400, 20, 1611),\n",
       " Field('당기순이익', 420, 20, 1614),\n",
       " Field('250최고', 440, 20, 1000),\n",
       " Field('250최저', 460, 20, 1003),\n",
       " Field('시가', 480, 20, 16),\n",
       " Field('고가', 500, 20, 17),\n",
       " Field('저가', 520, 20, 18),\n",
       " Field('상한가', 540, 20, 305),\n",
       " Field('하한가', 560, 20, 306),\n",
       " Field('기준가', 580, 20, 307),\n",
       " Field('예상체결가', 600, 20, 10023),\n",
       " Field('예상체결수량', 620, 20, 10024),\n",
       " Field('250최고가일', 640, 20, 1001),\n",
       " Field('250최고가대비율', 660, 20, 1002),\n",
       " Field('250최저가일', 680, 20, 1004),\n",
       " Field('250최저가대비율', 700, 20, 1005),\n",
       " Field('현재가', 720, 20, 10),\n",
       " Field('대비기호', 740, 20, 25),\n",
       " Field('전일대비', 760, 20, 11),\n",
       " Field('등락율', 780, 20, 12),\n",
       " Field('거래량', 800, 20, 13),\n",
       " Field('거래대비', 820, 20, 30),\n",
       " Field('액면가단위', 840, 20, 796),\n",
       " Field('유통주식', 840, 20, 1683),\n",
       " Field('유통비율', 840, 20, 1684)]"
      ]
     },
     "execution_count": 38,
     "metadata": {},
     "output_type": "execute_result"
    }
   ],
   "source": [
    "tr_info.single_outputs"
   ]
  },
  {
   "cell_type": "code",
   "execution_count": 39,
   "metadata": {},
   "outputs": [
    {
     "data": {
      "text/plain": [
       "[]"
      ]
     },
     "execution_count": 39,
     "metadata": {},
     "output_type": "execute_result"
    }
   ],
   "source": [
    "tr_info.multi_outputs"
   ]
  },
  {
   "attachments": {},
   "cell_type": "markdown",
   "metadata": {},
   "source": [
    "## 5. 조건검색 예시"
   ]
  },
  {
   "attachments": {},
   "cell_type": "markdown",
   "metadata": {},
   "source": [
    "조건검색을 사용하기 위해서는 먼저 서버에 저장된 조건들을 불러와야 한다."
   ]
  },
  {
   "cell_type": "code",
   "execution_count": 40,
   "metadata": {},
   "outputs": [
    {
     "data": {
      "text/plain": [
       "1"
      ]
     },
     "execution_count": 40,
     "metadata": {},
     "output_type": "execute_result"
    }
   ],
   "source": [
    "entrypoint.EnsureConditionLoaded()"
   ]
  },
  {
   "attachments": {},
   "cell_type": "markdown",
   "metadata": {},
   "source": [
    "불러온 조건들의 목록은 아래 함수로 확인이 가능하다."
   ]
  },
  {
   "cell_type": "code",
   "execution_count": 41,
   "metadata": {},
   "outputs": [],
   "source": [
    "conditions = entrypoint.GetConditionNameListAsList()"
   ]
  },
  {
   "cell_type": "code",
   "execution_count": 42,
   "metadata": {},
   "outputs": [
    {
     "data": {
      "text/plain": [
       "[(0, '0일 0.1%이상'),\n",
       " (1, 'BB 매수'),\n",
       " (2, '5일 세력 매수'),\n",
       " (3, '0일기준 5일 +5000씩'),\n",
       " (4, '0일기준 1일 +3000씩'),\n",
       " (5, '0일기준 20일 +5000씩'),\n",
       " (6, '5일 20일 +5000'),\n",
       " (7, '1일 5일 +3000 +5000')]"
      ]
     },
     "execution_count": 42,
     "metadata": {},
     "output_type": "execute_result"
    }
   ],
   "source": [
    "conditions"
   ]
  },
  {
   "attachments": {},
   "cell_type": "markdown",
   "metadata": {},
   "source": [
    "이후 예시의 정상동작을 위해서는 아래에서 사용되는 조건들과 같은 이름을 가지는 조건들이 미리 저장되어 있어야 한다.\n",
    "\n",
    "- 대형 저평가 우량주\n",
    "- 중소형 저평가주\n",
    "- ~~나는 그냥 내 조건식으로 진행하겠다.~~\n",
    "\n",
    "위의 조건식들은 키움에서 예시로 제공하는 추천식들을 그대로 이름을 똑같이 해서 저장한 것들이다. 참고로 조건들을 편집하고 저장하는건 영웅문 HTS 내부에서만 가능하기 때문에 따로 HTS를 열어 편집해주어야 한다.\n",
    "\n",
    "조건식이 편집된 이후에 해당 조건식을 기존에 동작중인 OpenAPI 에도 갱신하고 싶은 경우, 아래 함수를 통해 편집된 조건식을 새로 불러온다."
   ]
  },
  {
   "cell_type": "code",
   "execution_count": 48,
   "metadata": {},
   "outputs": [
    {
     "data": {
      "text/plain": [
       "1"
      ]
     },
     "execution_count": 48,
     "metadata": {},
     "output_type": "execute_result"
    }
   ],
   "source": [
    "entrypoint.LoadCondition()"
   ]
  },
  {
   "attachments": {},
   "cell_type": "markdown",
   "metadata": {},
   "source": [
    "### 일반 조건검색 예시"
   ]
  },
  {
   "cell_type": "code",
   "execution_count": 63,
   "metadata": {},
   "outputs": [],
   "source": [
    "condition_name = conditions[7][1]"
   ]
  },
  {
   "cell_type": "code",
   "execution_count": 65,
   "metadata": {},
   "outputs": [
    {
     "ename": "_MultiThreadedRendezvous",
     "evalue": "<_MultiThreadedRendezvous of RPC that terminated with:\n\tstatus = StatusCode.UNKNOWN\n\tdetails = \"Exception iterating responses: 'str' object has no attribute '__name__'\"\n\tdebug_error_string = \"UNKNOWN:Error received from peer  {grpc_message:\"Exception iterating responses: \\'str\\' object has no attribute \\'__name__\\'\", grpc_status:2, created_time:\"2023-04-25T07:47:57.965139874+00:00\"}\"\n>",
     "output_type": "error",
     "traceback": [
      "\u001b[1;31m---------------------------------------------------------------------------\u001b[0m",
      "\u001b[1;31m_MultiThreadedRendezvous\u001b[0m                  Traceback (most recent call last)",
      "Cell \u001b[1;32mIn[65], line 1\u001b[0m\n\u001b[1;32m----> 1\u001b[0m condition_met_code_list, condition_met_code_list_info \u001b[39m=\u001b[39m entrypoint\u001b[39m.\u001b[39;49mGetCodeListByCondition(condition_name, with_info\u001b[39m=\u001b[39;49m\u001b[39mTrue\u001b[39;49;00m)\n",
      "File \u001b[1;32mc:\\Users\\kihon\\miniconda3\\envs\\py32\\lib\\site-packages\\koapy\\backend\\kiwoom_open_api_plus\\grpc\\KiwoomOpenApiPlusServiceClientStubWrapper.py:1298\u001b[0m, in \u001b[0;36mKiwoomOpenApiPlusServiceClientStubExtendedWrapper.GetCodeListByCondition\u001b[1;34m(self, condition_name, condition_index, with_info, is_future_option, request_name, screen_no)\u001b[0m\n\u001b[0;32m   1295\u001b[0m records \u001b[39m=\u001b[39m []\n\u001b[0;32m   1296\u001b[0m remove_zeros_width \u001b[39m=\u001b[39m \u001b[39mNone\u001b[39;00m\n\u001b[1;32m-> 1298\u001b[0m \u001b[39mfor\u001b[39;00m response \u001b[39min\u001b[39;00m \u001b[39mself\u001b[39m\u001b[39m.\u001b[39mConditionCall(\n\u001b[0;32m   1299\u001b[0m     screen_no,\n\u001b[0;32m   1300\u001b[0m     condition_name,\n\u001b[0;32m   1301\u001b[0m     condition_index,\n\u001b[0;32m   1302\u001b[0m     search_type,\n\u001b[0;32m   1303\u001b[0m     with_info,\n\u001b[0;32m   1304\u001b[0m     is_future_option,\n\u001b[0;32m   1305\u001b[0m     request_name,\n\u001b[0;32m   1306\u001b[0m ):\n\u001b[0;32m   1307\u001b[0m     \u001b[39mif\u001b[39;00m response\u001b[39m.\u001b[39mname \u001b[39m==\u001b[39m \u001b[39m\"\u001b[39m\u001b[39mOnReceiveTrCondition\u001b[39m\u001b[39m\"\u001b[39m:\n\u001b[0;32m   1308\u001b[0m         code_list \u001b[39m=\u001b[39m response\u001b[39m.\u001b[39marguments[\u001b[39m1\u001b[39m]\u001b[39m.\u001b[39mstring_value\n",
      "File \u001b[1;32mc:\\Users\\kihon\\miniconda3\\envs\\py32\\lib\\site-packages\\grpc\\_channel.py:475\u001b[0m, in \u001b[0;36m_Rendezvous.__next__\u001b[1;34m(self)\u001b[0m\n\u001b[0;32m    474\u001b[0m \u001b[39mdef\u001b[39;00m \u001b[39m__next__\u001b[39m(\u001b[39mself\u001b[39m):\n\u001b[1;32m--> 475\u001b[0m     \u001b[39mreturn\u001b[39;00m \u001b[39mself\u001b[39;49m\u001b[39m.\u001b[39;49m_next()\n",
      "File \u001b[1;32mc:\\Users\\kihon\\miniconda3\\envs\\py32\\lib\\site-packages\\grpc\\_channel.py:881\u001b[0m, in \u001b[0;36m_MultiThreadedRendezvous._next\u001b[1;34m(self)\u001b[0m\n\u001b[0;32m    879\u001b[0m     \u001b[39mraise\u001b[39;00m \u001b[39mStopIteration\u001b[39;00m()\n\u001b[0;32m    880\u001b[0m \u001b[39melif\u001b[39;00m \u001b[39mself\u001b[39m\u001b[39m.\u001b[39m_state\u001b[39m.\u001b[39mcode \u001b[39mis\u001b[39;00m \u001b[39mnot\u001b[39;00m \u001b[39mNone\u001b[39;00m:\n\u001b[1;32m--> 881\u001b[0m     \u001b[39mraise\u001b[39;00m \u001b[39mself\u001b[39m\n",
      "\u001b[1;31m_MultiThreadedRendezvous\u001b[0m: <_MultiThreadedRendezvous of RPC that terminated with:\n\tstatus = StatusCode.UNKNOWN\n\tdetails = \"Exception iterating responses: 'str' object has no attribute '__name__'\"\n\tdebug_error_string = \"UNKNOWN:Error received from peer  {grpc_message:\"Exception iterating responses: \\'str\\' object has no attribute \\'__name__\\'\", grpc_status:2, created_time:\"2023-04-25T07:47:57.965139874+00:00\"}\"\n>"
     ]
    }
   ],
   "source": [
    "condition_met_code_list, condition_met_code_list_info = entrypoint.GetCodeListByCondition(condition_name, with_info=True)\n",
    "# 에러나니까 일단은 패스하자"
   ]
  },
  {
   "attachments": {},
   "cell_type": "markdown",
   "metadata": {},
   "source": [
    "### 실시간 조건 검색 예시\n",
    "\n",
    "같은 조건식은 1분에 1건 제한이므로 예시 실행시 제한을 회피하기 위해서 새로 설정한다."
   ]
  },
  {
   "cell_type": "code",
   "execution_count": 66,
   "metadata": {},
   "outputs": [],
   "source": [
    "condition_name = '1일 5일 +3000 +5000'"
   ]
  },
  {
   "cell_type": "code",
   "execution_count": 67,
   "metadata": {},
   "outputs": [
    {
     "name": "stderr",
     "output_type": "stream",
     "text": [
      "2023-04-25 17:45:26,627 [INFO] Start listening realtime condition stream... - 3088179260.py:1\n"
     ]
    }
   ],
   "source": [
    "logging.info('Start listening realtime condition stream...')\n",
    "stream = entrypoint.GetCodeListByConditionAsStream(condition_name)"
   ]
  },
  {
   "attachments": {},
   "cell_type": "markdown",
   "metadata": {},
   "source": [
    "실시간 조건검색의 경우 조건에 만족/불만족하는 종목이 편입/이탈할때마다 계속해서 이벤트를 반환한다. 예시에서는 10초동안만 이벤트를 확인해본다."
   ]
  },
  {
   "cell_type": "code",
   "execution_count": 68,
   "metadata": {},
   "outputs": [],
   "source": [
    "import threading\n",
    "\n",
    "def stop_listening():\n",
    "    logging.info('Stop listening realtime condition events...')\n",
    "    stream.cancel()\n",
    "    \n",
    "threading.Timer(65.0, stop_listening).start() # 65초 이후에 gRPC 커넥션 종료하도록 설정"
   ]
  },
  {
   "cell_type": "code",
   "execution_count": 70,
   "metadata": {},
   "outputs": [
    {
     "name": "stdout",
     "output_type": "stream",
     "text": [
      "<_MultiThreadedRendezvous of RPC that terminated with:\n",
      "\tstatus = StatusCode.UNKNOWN\n",
      "\tdetails = \"Exception iterating responses: 'str' object has no attribute '__name__'\"\n",
      "\tdebug_error_string = \"UNKNOWN:Error received from peer  {grpc_message:\"Exception iterating responses: \\'str\\' object has no attribute \\'__name__\\'\", grpc_status:2, created_time:\"2023-04-25T08:45:26.651072375+00:00\"}\"\n",
      ">\n"
     ]
    }
   ],
   "source": [
    "# 얘도 에러 나옴\n",
    "import grpc\n",
    "\n",
    "events = []\n",
    "\n",
    "try:\n",
    "    for event in stream:\n",
    "        events.append(event)\n",
    "        pprint_event(event)\n",
    "except grpc.RpcError as e:\n",
    "    print(e)"
   ]
  },
  {
   "attachments": {},
   "cell_type": "markdown",
   "metadata": {},
   "source": [
    "위에서 `stream` 결과는 `grpc` 의 `_MultiThreadRendezvous` 객체인데 사실 해당 타입은 직접적으로 외부에 노출되는 타입은 아니다. 대신에 해당 타입은 내부적으로 `grpc.RpcError`, `grpc.RpcContext`, `grpc.Call`, `grpc.Future` 인터페이스를 구현하고 있으므로 해당 객체의 사용법과 관련해서는 각각의 인터페이스를 참고하자.\n",
    "\n",
    "최초 이벤트로 반한되는 코드 목록들에 대해서 앞선 일반조건 검색 예시에서와 같이 종목들의 기본정보들을 별도로 가져오고 싶다면 대략 아래처럼 해볼 수 있다."
   ]
  },
  {
   "cell_type": "code",
   "execution_count": 71,
   "metadata": {},
   "outputs": [],
   "source": [
    "if len(events) > 0:\n",
    "    codes = events[0].arguments[1].string_value.strip(';').split(';')\n",
    "else:\n",
    "    codes = [samsung_code]"
   ]
  },
  {
   "cell_type": "code",
   "execution_count": 72,
   "metadata": {},
   "outputs": [
    {
     "data": {
      "text/plain": [
       "['005930']"
      ]
     },
     "execution_count": 72,
     "metadata": {},
     "output_type": "execute_result"
    }
   ],
   "source": [
    "codes"
   ]
  },
  {
   "cell_type": "code",
   "execution_count": 73,
   "metadata": {},
   "outputs": [],
   "source": [
    "info = entrypoint.GetStockQuoteInfoAsDataFrame(codes)"
   ]
  },
  {
   "cell_type": "code",
   "execution_count": 74,
   "metadata": {},
   "outputs": [
    {
     "data": {
      "text/html": [
       "<div>\n",
       "<style scoped>\n",
       "    .dataframe tbody tr th:only-of-type {\n",
       "        vertical-align: middle;\n",
       "    }\n",
       "\n",
       "    .dataframe tbody tr th {\n",
       "        vertical-align: top;\n",
       "    }\n",
       "\n",
       "    .dataframe thead th {\n",
       "        text-align: right;\n",
       "    }\n",
       "</style>\n",
       "<table border=\"1\" class=\"dataframe\">\n",
       "  <thead>\n",
       "    <tr style=\"text-align: right;\">\n",
       "      <th></th>\n",
       "      <th>종목코드</th>\n",
       "      <th>종목명</th>\n",
       "      <th>현재가</th>\n",
       "      <th>기준가</th>\n",
       "      <th>전일대비</th>\n",
       "      <th>전일대비기호</th>\n",
       "      <th>등락율</th>\n",
       "      <th>거래량</th>\n",
       "      <th>거래대금</th>\n",
       "      <th>체결량</th>\n",
       "      <th>...</th>\n",
       "      <th>ELW만기일</th>\n",
       "      <th>미결제약정</th>\n",
       "      <th>미결제전일대비</th>\n",
       "      <th>이론가</th>\n",
       "      <th>내재변동성</th>\n",
       "      <th>델타</th>\n",
       "      <th>감마</th>\n",
       "      <th>쎄타</th>\n",
       "      <th>베가</th>\n",
       "      <th>로</th>\n",
       "    </tr>\n",
       "  </thead>\n",
       "  <tbody>\n",
       "    <tr>\n",
       "      <th>0</th>\n",
       "      <td>005930</td>\n",
       "      <td>삼성전자</td>\n",
       "      <td>-63600</td>\n",
       "      <td>65200</td>\n",
       "      <td>-1600</td>\n",
       "      <td>5</td>\n",
       "      <td>-2.45</td>\n",
       "      <td>16055576</td>\n",
       "      <td>1030747</td>\n",
       "      <td>-10</td>\n",
       "      <td>...</td>\n",
       "      <td>00000000</td>\n",
       "      <td></td>\n",
       "      <td></td>\n",
       "      <td></td>\n",
       "      <td></td>\n",
       "      <td></td>\n",
       "      <td></td>\n",
       "      <td></td>\n",
       "      <td></td>\n",
       "      <td></td>\n",
       "    </tr>\n",
       "  </tbody>\n",
       "</table>\n",
       "<p>1 rows × 63 columns</p>\n",
       "</div>"
      ],
      "text/plain": [
       "     종목코드   종목명     현재가    기준가   전일대비 전일대비기호    등락율       거래량     거래대금  체결량  \\\n",
       "0  005930  삼성전자  -63600  65200  -1600      5  -2.45  16055576  1030747  -10   \n",
       "\n",
       "   ...    ELW만기일 미결제약정 미결제전일대비 이론가 내재변동성 델타 감마 쎄타 베가 로  \n",
       "0  ...  00000000                                        \n",
       "\n",
       "[1 rows x 63 columns]"
      ]
     },
     "execution_count": 74,
     "metadata": {},
     "output_type": "execute_result"
    }
   ],
   "source": [
    "info"
   ]
  },
  {
   "attachments": {},
   "cell_type": "markdown",
   "metadata": {},
   "source": [
    "아니면 `stream` 생성시에 `with_info=True` 를 주는 경우 매 조건 이벤트마다 바로 뒤에 관심종목정보요청 이벤트를 이어서 반환하는데, 결국은 약간의 별도 데이터 처리가 필요하다."
   ]
  },
  {
   "cell_type": "code",
   "execution_count": 76,
   "metadata": {},
   "outputs": [
    {
     "name": "stderr",
     "output_type": "stream",
     "text": [
      "2023-04-25 17:54:08,163 [INFO] Start listening realtime condition stream... - 1787596366.py:2\n"
     ]
    }
   ],
   "source": [
    "condition_name = '1일 5일 +3000 +5000'\n",
    "logging.info('Start listening realtime condition stream...')\n",
    "stream = entrypoint.GetCodeListByConditionAsStream(condition_name, with_info=True)"
   ]
  },
  {
   "attachments": {},
   "cell_type": "markdown",
   "metadata": {},
   "source": [
    "실시간 조건검색의 경우 조건에 만족/불만족하는 종목이 편입/이탈할때마다 계속해서 이벤트를 반환한다. 예시에서는 10초 동안만 이벤트를 확인해본다."
   ]
  },
  {
   "cell_type": "code",
   "execution_count": 77,
   "metadata": {},
   "outputs": [],
   "source": [
    "import threading\n",
    "\n",
    "def stop_listening():\n",
    "    logging.info('Stop listening realtime ')\n",
    "    stream.cancel()\n",
    "    \n",
    "threading.Timer(10.0, stop_listening).start() # 10초 이후에 gRPC 커넥션 종료하도록 설정"
   ]
  },
  {
   "cell_type": "code",
   "execution_count": 78,
   "metadata": {},
   "outputs": [
    {
     "name": "stdout",
     "output_type": "stream",
     "text": [
      "<_MultiThreadedRendezvous of RPC that terminated with:\n",
      "\tstatus = StatusCode.UNKNOWN\n",
      "\tdetails = \"Exception iterating responses: 'str' object has no attribute '__name__'\"\n",
      "\tdebug_error_string = \"UNKNOWN:Error received from peer  {created_time:\"2023-04-25T08:54:08.184618393+00:00\", grpc_status:2, grpc_message:\"Exception iterating responses: \\'str\\' object has no attribute \\'__name__\\'\"}\"\n",
      ">\n"
     ]
    }
   ],
   "source": [
    "import grpc\n",
    "events = []\n",
    "\n",
    "try:\n",
    "    for event in stream:\n",
    "        events.append(event)\n",
    "        pprint_event(event)\n",
    "except grpc.RpcError as e:\n",
    "    print(e)"
   ]
  }
 ],
 "metadata": {
  "kernelspec": {
   "display_name": "py32",
   "language": "python",
   "name": "python3"
  },
  "language_info": {
   "codemirror_mode": {
    "name": "ipython",
    "version": 3
   },
   "file_extension": ".py",
   "mimetype": "text/x-python",
   "name": "python",
   "nbconvert_exporter": "python",
   "pygments_lexer": "ipython3",
   "version": "3.10.4"
  },
  "orig_nbformat": 4
 },
 "nbformat": 4,
 "nbformat_minor": 2
}
