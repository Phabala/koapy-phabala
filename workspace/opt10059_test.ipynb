{
 "cells": [
  {
   "cell_type": "code",
   "execution_count": 19,
   "metadata": {},
   "outputs": [],
   "source": [
    "from koapy import KiwoomOpenApiPlusEntrypoint\n",
    "import pandas as pd\n",
    "from tqdm import tqdm"
   ]
  },
  {
   "cell_type": "code",
   "execution_count": 2,
   "metadata": {},
   "outputs": [
    {
     "name": "stderr",
     "output_type": "stream",
     "text": [
      "2023-04-25 19:24:58,177 [DEBUG] Testing if client is ready... - KiwoomOpenApiPlusEntrypoint.py:45\n",
      "2023-04-25 19:24:58,191 [DEBUG] Client is ready, using existing server - KiwoomOpenApiPlusEntrypoint.py:55\n"
     ]
    }
   ],
   "source": [
    "entrypoint = KiwoomOpenApiPlusEntrypoint()"
   ]
  },
  {
   "cell_type": "code",
   "execution_count": 3,
   "metadata": {},
   "outputs": [
    {
     "data": {
      "text/plain": [
       "True"
      ]
     },
     "execution_count": 3,
     "metadata": {},
     "output_type": "execute_result"
    }
   ],
   "source": [
    "entrypoint.EnsureConnected()\n",
    "entrypoint.IsConnected()"
   ]
  },
  {
   "cell_type": "code",
   "execution_count": 7,
   "metadata": {},
   "outputs": [],
   "source": [
    "from koapy import KiwoomOpenApiPlusTrInfo"
   ]
  },
  {
   "cell_type": "code",
   "execution_count": 8,
   "metadata": {},
   "outputs": [],
   "source": [
    "opt10059_info = KiwoomOpenApiPlusTrInfo.get_trinfo_by_code(\"opt10059\")"
   ]
  },
  {
   "cell_type": "code",
   "execution_count": 9,
   "metadata": {},
   "outputs": [
    {
     "data": {
      "text/plain": [
       "KiwoomOpenApiPlusTrInfo('opt10059', 'STOCKG', '', '1', '2330', '종목별투자자기관별요청', [Field('일자', 0, 20, 9004), Field('종목코드', 20, 20, 9001), Field('금액수량구분', 40, 20, 9036), Field('매매구분', 60, 20, 9032), Field('단위구분', 80, 20, 9207)], '', OutputsParams(None, None, None), [], '종목별투자자기관별', OutputsParams('100', '4', '*'), [Field('일자', 0, 20, 22), Field('현재가', 20, 20, 10), Field('대비기호', 40, 20, 25), Field('전일대비', 60, 20, 11), Field('등락율', 80, 20, 12), Field('누적거래량', 100, 20, 13), Field('누적거래대금', 100, 20, 14), Field('개인투자자', 120, 20, 1859), Field('외국인투자자', 140, 20, 1965), Field('기관계', 160, 20, 1977), Field('금융투자', 180, 20, 1805), Field('보험', 200, 20, 1811), Field('투신', 220, 20, 1817), Field('기타금융', 240, 20, 1835), Field('은행', 260, 20, 1829), Field('연기금등', 280, 20, 1841), Field('사모펀드', 300, 20, 1823), Field('국가', 320, 20, 1847), Field('기타법인', 340, 20, 1853), Field('내외국인', 360, 20, 1971)])"
      ]
     },
     "execution_count": 9,
     "metadata": {},
     "output_type": "execute_result"
    }
   ],
   "source": [
    "opt10059_info"
   ]
  },
  {
   "cell_type": "code",
   "execution_count": 10,
   "metadata": {},
   "outputs": [
    {
     "data": {
      "text/plain": [
       "[Field('일자', 0, 20, 9004),\n",
       " Field('종목코드', 20, 20, 9001),\n",
       " Field('금액수량구분', 40, 20, 9036),\n",
       " Field('매매구분', 60, 20, 9032),\n",
       " Field('단위구분', 80, 20, 9207)]"
      ]
     },
     "execution_count": 10,
     "metadata": {},
     "output_type": "execute_result"
    }
   ],
   "source": [
    "opt10059_info.inputs"
   ]
  },
  {
   "cell_type": "code",
   "execution_count": 11,
   "metadata": {},
   "outputs": [
    {
     "data": {
      "text/plain": [
       "[]"
      ]
     },
     "execution_count": 11,
     "metadata": {},
     "output_type": "execute_result"
    }
   ],
   "source": [
    "opt10059_info.single_outputs"
   ]
  },
  {
   "cell_type": "code",
   "execution_count": 12,
   "metadata": {},
   "outputs": [
    {
     "data": {
      "text/plain": [
       "[Field('일자', 0, 20, 22),\n",
       " Field('현재가', 20, 20, 10),\n",
       " Field('대비기호', 40, 20, 25),\n",
       " Field('전일대비', 60, 20, 11),\n",
       " Field('등락율', 80, 20, 12),\n",
       " Field('누적거래량', 100, 20, 13),\n",
       " Field('누적거래대금', 100, 20, 14),\n",
       " Field('개인투자자', 120, 20, 1859),\n",
       " Field('외국인투자자', 140, 20, 1965),\n",
       " Field('기관계', 160, 20, 1977),\n",
       " Field('금융투자', 180, 20, 1805),\n",
       " Field('보험', 200, 20, 1811),\n",
       " Field('투신', 220, 20, 1817),\n",
       " Field('기타금융', 240, 20, 1835),\n",
       " Field('은행', 260, 20, 1829),\n",
       " Field('연기금등', 280, 20, 1841),\n",
       " Field('사모펀드', 300, 20, 1823),\n",
       " Field('국가', 320, 20, 1847),\n",
       " Field('기타법인', 340, 20, 1853),\n",
       " Field('내외국인', 360, 20, 1971)]"
      ]
     },
     "execution_count": 12,
     "metadata": {},
     "output_type": "execute_result"
    }
   ],
   "source": [
    "opt10059_info.multi_outputs"
   ]
  },
  {
   "cell_type": "code",
   "execution_count": 13,
   "metadata": {},
   "outputs": [
    {
     "data": {
      "text/plain": [
       "'20230425'"
      ]
     },
     "execution_count": 13,
     "metadata": {},
     "output_type": "execute_result"
    }
   ],
   "source": [
    "import datetime\n",
    "\n",
    "date = datetime.datetime.now().strftime(\"%Y%m%d\")\n",
    "date"
   ]
  },
  {
   "cell_type": "code",
   "execution_count": 14,
   "metadata": {},
   "outputs": [],
   "source": [
    "request_name = \"종목별투자자\"\n",
    "tr_code = \"opt10059\"\n",
    "screen_no = \"0001\"\n",
    "inputs = {\n",
    "    \"일자\" : \"date\",\n",
    "    \"종목코드\" : \"005930\",\n",
    "    \"금액수량구분\" : \"2\",\n",
    "    \"매매구분\" : \"0\",\n",
    "    \"단위구분\" : \"1000\"\n",
    "}"
   ]
  },
  {
   "cell_type": "code",
   "execution_count": 15,
   "metadata": {},
   "outputs": [],
   "source": [
    "data_list = []"
   ]
  },
  {
   "cell_type": "code",
   "execution_count": 20,
   "metadata": {},
   "outputs": [
    {
     "name": "stderr",
     "output_type": "stream",
     "text": [
      "90it [05:19,  3.55s/it]\n"
     ]
    }
   ],
   "source": [
    "# 이 코드를 해석해야 내가 원하는 수 만큼 데이터를 받을 수 있겠다\n",
    "for event in tqdm(entrypoint.TransactionCall(request_name, tr_code, screen_no, inputs)):\n",
    "    columns = event.multi_data.names\n",
    "    records = [values.values for values in event.multi_data.values]\n",
    "    data = pd.DataFrame.from_records(records, columns=columns)\n",
    "    data_list.append(data)"
   ]
  },
  {
   "cell_type": "code",
   "execution_count": 21,
   "metadata": {},
   "outputs": [
    {
     "data": {
      "text/html": [
       "<div>\n",
       "<style scoped>\n",
       "    .dataframe tbody tr th:only-of-type {\n",
       "        vertical-align: middle;\n",
       "    }\n",
       "\n",
       "    .dataframe tbody tr th {\n",
       "        vertical-align: top;\n",
       "    }\n",
       "\n",
       "    .dataframe thead th {\n",
       "        text-align: right;\n",
       "    }\n",
       "</style>\n",
       "<table border=\"1\" class=\"dataframe\">\n",
       "  <thead>\n",
       "    <tr style=\"text-align: right;\">\n",
       "      <th></th>\n",
       "      <th>일자</th>\n",
       "      <th>현재가</th>\n",
       "      <th>대비기호</th>\n",
       "      <th>전일대비</th>\n",
       "      <th>등락율</th>\n",
       "      <th>누적거래량</th>\n",
       "      <th>누적거래대금</th>\n",
       "      <th>개인투자자</th>\n",
       "      <th>외국인투자자</th>\n",
       "      <th>기관계</th>\n",
       "      <th>금융투자</th>\n",
       "      <th>보험</th>\n",
       "      <th>투신</th>\n",
       "      <th>기타금융</th>\n",
       "      <th>은행</th>\n",
       "      <th>연기금등</th>\n",
       "      <th>사모펀드</th>\n",
       "      <th>국가</th>\n",
       "      <th>기타법인</th>\n",
       "      <th>내외국인</th>\n",
       "    </tr>\n",
       "  </thead>\n",
       "  <tbody>\n",
       "    <tr>\n",
       "      <th>0</th>\n",
       "      <td>20230425</td>\n",
       "      <td>-63600</td>\n",
       "      <td>5</td>\n",
       "      <td>-1600</td>\n",
       "      <td>-2.45</td>\n",
       "      <td>16193271</td>\n",
       "      <td>1039508</td>\n",
       "      <td>1262</td>\n",
       "      <td>-714</td>\n",
       "      <td>-543</td>\n",
       "      <td>510</td>\n",
       "      <td>24</td>\n",
       "      <td>-394</td>\n",
       "      <td>-13</td>\n",
       "      <td>21</td>\n",
       "      <td>-311</td>\n",
       "      <td>-380</td>\n",
       "      <td>0</td>\n",
       "      <td>-10</td>\n",
       "      <td>4</td>\n",
       "    </tr>\n",
       "    <tr>\n",
       "      <th>1</th>\n",
       "      <td>20230424</td>\n",
       "      <td>-65200</td>\n",
       "      <td>5</td>\n",
       "      <td>-500</td>\n",
       "      <td>-0.76</td>\n",
       "      <td>12986581</td>\n",
       "      <td>846721</td>\n",
       "      <td>-1631</td>\n",
       "      <td>1358</td>\n",
       "      <td>341</td>\n",
       "      <td>1152</td>\n",
       "      <td>-18</td>\n",
       "      <td>-392</td>\n",
       "      <td>-9</td>\n",
       "      <td>3</td>\n",
       "      <td>-397</td>\n",
       "      <td>2</td>\n",
       "      <td>0</td>\n",
       "      <td>-62</td>\n",
       "      <td>-7</td>\n",
       "    </tr>\n",
       "    <tr>\n",
       "      <th>2</th>\n",
       "      <td>20230421</td>\n",
       "      <td>+65700</td>\n",
       "      <td>2</td>\n",
       "      <td>+400</td>\n",
       "      <td>+0.61</td>\n",
       "      <td>10538622</td>\n",
       "      <td>691721</td>\n",
       "      <td>-2004</td>\n",
       "      <td>2685</td>\n",
       "      <td>-670</td>\n",
       "      <td>233</td>\n",
       "      <td>-2</td>\n",
       "      <td>-422</td>\n",
       "      <td>25</td>\n",
       "      <td>-3</td>\n",
       "      <td>-272</td>\n",
       "      <td>-230</td>\n",
       "      <td>0</td>\n",
       "      <td>-3</td>\n",
       "      <td>-8</td>\n",
       "    </tr>\n",
       "    <tr>\n",
       "      <th>3</th>\n",
       "      <td>20230420</td>\n",
       "      <td>-65300</td>\n",
       "      <td>5</td>\n",
       "      <td>-200</td>\n",
       "      <td>-0.31</td>\n",
       "      <td>9501169</td>\n",
       "      <td>618181</td>\n",
       "      <td>-829</td>\n",
       "      <td>1258</td>\n",
       "      <td>-404</td>\n",
       "      <td>85</td>\n",
       "      <td>6</td>\n",
       "      <td>-165</td>\n",
       "      <td>-2</td>\n",
       "      <td>3</td>\n",
       "      <td>-494</td>\n",
       "      <td>165</td>\n",
       "      <td>0</td>\n",
       "      <td>-24</td>\n",
       "      <td>-2</td>\n",
       "    </tr>\n",
       "    <tr>\n",
       "      <th>4</th>\n",
       "      <td>20230419</td>\n",
       "      <td>-65500</td>\n",
       "      <td>5</td>\n",
       "      <td>-100</td>\n",
       "      <td>-0.15</td>\n",
       "      <td>10255985</td>\n",
       "      <td>672185</td>\n",
       "      <td>-971</td>\n",
       "      <td>1056</td>\n",
       "      <td>-69</td>\n",
       "      <td>91</td>\n",
       "      <td>-46</td>\n",
       "      <td>-60</td>\n",
       "      <td>-4</td>\n",
       "      <td>4</td>\n",
       "      <td>-146</td>\n",
       "      <td>92</td>\n",
       "      <td>0</td>\n",
       "      <td>-11</td>\n",
       "      <td>-5</td>\n",
       "    </tr>\n",
       "    <tr>\n",
       "      <th>...</th>\n",
       "      <td>...</td>\n",
       "      <td>...</td>\n",
       "      <td>...</td>\n",
       "      <td>...</td>\n",
       "      <td>...</td>\n",
       "      <td>...</td>\n",
       "      <td>...</td>\n",
       "      <td>...</td>\n",
       "      <td>...</td>\n",
       "      <td>...</td>\n",
       "      <td>...</td>\n",
       "      <td>...</td>\n",
       "      <td>...</td>\n",
       "      <td>...</td>\n",
       "      <td>...</td>\n",
       "      <td>...</td>\n",
       "      <td>...</td>\n",
       "      <td>...</td>\n",
       "      <td>...</td>\n",
       "      <td>...</td>\n",
       "    </tr>\n",
       "    <tr>\n",
       "      <th>9100</th>\n",
       "      <td>19850109</td>\n",
       "      <td>8010</td>\n",
       "      <td>0</td>\n",
       "      <td>290</td>\n",
       "      <td>+3.62</td>\n",
       "      <td>4970</td>\n",
       "      <td>1</td>\n",
       "      <td>0</td>\n",
       "      <td>0</td>\n",
       "      <td>0</td>\n",
       "      <td>0</td>\n",
       "      <td>0</td>\n",
       "      <td>0</td>\n",
       "      <td>0</td>\n",
       "      <td>0</td>\n",
       "      <td>0</td>\n",
       "      <td>0</td>\n",
       "      <td>0</td>\n",
       "      <td>0</td>\n",
       "      <td>0</td>\n",
       "    </tr>\n",
       "    <tr>\n",
       "      <th>9101</th>\n",
       "      <td>19850108</td>\n",
       "      <td>8300</td>\n",
       "      <td>0</td>\n",
       "      <td>110</td>\n",
       "      <td>+1.33</td>\n",
       "      <td>12930</td>\n",
       "      <td>4</td>\n",
       "      <td>0</td>\n",
       "      <td>0</td>\n",
       "      <td>0</td>\n",
       "      <td>0</td>\n",
       "      <td>0</td>\n",
       "      <td>0</td>\n",
       "      <td>0</td>\n",
       "      <td>0</td>\n",
       "      <td>0</td>\n",
       "      <td>0</td>\n",
       "      <td>0</td>\n",
       "      <td>0</td>\n",
       "      <td>0</td>\n",
       "    </tr>\n",
       "    <tr>\n",
       "      <th>9102</th>\n",
       "      <td>19850107</td>\n",
       "      <td>8410</td>\n",
       "      <td>0</td>\n",
       "      <td>20</td>\n",
       "      <td>+0.24</td>\n",
       "      <td>11810</td>\n",
       "      <td>3</td>\n",
       "      <td>0</td>\n",
       "      <td>0</td>\n",
       "      <td>0</td>\n",
       "      <td>0</td>\n",
       "      <td>0</td>\n",
       "      <td>0</td>\n",
       "      <td>0</td>\n",
       "      <td>0</td>\n",
       "      <td>0</td>\n",
       "      <td>0</td>\n",
       "      <td>0</td>\n",
       "      <td>0</td>\n",
       "      <td>0</td>\n",
       "    </tr>\n",
       "    <tr>\n",
       "      <th>9103</th>\n",
       "      <td>19850105</td>\n",
       "      <td>8390</td>\n",
       "      <td>0</td>\n",
       "      <td>60</td>\n",
       "      <td>+0.72</td>\n",
       "      <td>1660</td>\n",
       "      <td>0</td>\n",
       "      <td>0</td>\n",
       "      <td>0</td>\n",
       "      <td>0</td>\n",
       "      <td>0</td>\n",
       "      <td>0</td>\n",
       "      <td>0</td>\n",
       "      <td>0</td>\n",
       "      <td>0</td>\n",
       "      <td>0</td>\n",
       "      <td>0</td>\n",
       "      <td>0</td>\n",
       "      <td>0</td>\n",
       "      <td>0</td>\n",
       "    </tr>\n",
       "    <tr>\n",
       "      <th>9104</th>\n",
       "      <td>19850104</td>\n",
       "      <td>8450</td>\n",
       "      <td>0</td>\n",
       "      <td>0</td>\n",
       "      <td>+0.00</td>\n",
       "      <td>1710</td>\n",
       "      <td>0</td>\n",
       "      <td>0</td>\n",
       "      <td>0</td>\n",
       "      <td>0</td>\n",
       "      <td>0</td>\n",
       "      <td>0</td>\n",
       "      <td>0</td>\n",
       "      <td>0</td>\n",
       "      <td>0</td>\n",
       "      <td>0</td>\n",
       "      <td>0</td>\n",
       "      <td>0</td>\n",
       "      <td>0</td>\n",
       "      <td>0</td>\n",
       "    </tr>\n",
       "  </tbody>\n",
       "</table>\n",
       "<p>9105 rows × 20 columns</p>\n",
       "</div>"
      ],
      "text/plain": [
       "            일자     현재가 대비기호   전일대비    등락율     누적거래량   누적거래대금  개인투자자 외국인투자자  \\\n",
       "0     20230425  -63600    5  -1600  -2.45  16193271  1039508   1262   -714   \n",
       "1     20230424  -65200    5   -500  -0.76  12986581   846721  -1631   1358   \n",
       "2     20230421  +65700    2   +400  +0.61  10538622   691721  -2004   2685   \n",
       "3     20230420  -65300    5   -200  -0.31   9501169   618181   -829   1258   \n",
       "4     20230419  -65500    5   -100  -0.15  10255985   672185   -971   1056   \n",
       "...        ...     ...  ...    ...    ...       ...      ...    ...    ...   \n",
       "9100  19850109    8010    0    290  +3.62      4970        1      0      0   \n",
       "9101  19850108    8300    0    110  +1.33     12930        4      0      0   \n",
       "9102  19850107    8410    0     20  +0.24     11810        3      0      0   \n",
       "9103  19850105    8390    0     60  +0.72      1660        0      0      0   \n",
       "9104  19850104    8450    0      0  +0.00      1710        0      0      0   \n",
       "\n",
       "       기관계  금융투자   보험    투신 기타금융  은행  연기금등  사모펀드 국가 기타법인 내외국인  \n",
       "0     -543   510   24  -394  -13  21  -311  -380  0  -10    4  \n",
       "1      341  1152  -18  -392   -9   3  -397     2  0  -62   -7  \n",
       "2     -670   233   -2  -422   25  -3  -272  -230  0   -3   -8  \n",
       "3     -404    85    6  -165   -2   3  -494   165  0  -24   -2  \n",
       "4      -69    91  -46   -60   -4   4  -146    92  0  -11   -5  \n",
       "...    ...   ...  ...   ...  ...  ..   ...   ... ..  ...  ...  \n",
       "9100     0     0    0     0    0   0     0     0  0    0    0  \n",
       "9101     0     0    0     0    0   0     0     0  0    0    0  \n",
       "9102     0     0    0     0    0   0     0     0  0    0    0  \n",
       "9103     0     0    0     0    0   0     0     0  0    0    0  \n",
       "9104     0     0    0     0    0   0     0     0  0    0    0  \n",
       "\n",
       "[9105 rows x 20 columns]"
      ]
     },
     "execution_count": 21,
     "metadata": {},
     "output_type": "execute_result"
    }
   ],
   "source": [
    "pd_data = pd.concat(data_list, axis=0).reset_index(drop=True)\n",
    "pd_data"
   ]
  },
  {
   "attachments": {},
   "cell_type": "markdown",
   "metadata": {},
   "source": [
    "기록 : \n",
    "9105 행을 다 받을 필요는 없다. 나에게는 7년만 있으면 된다 (1680 행)\n",
    "앞으로 해야 할 일 : 기초 엑셀파일을 종목별로 한 디렉토리 안에 모두 만들어 놓기, 선택한 종목만 다운받기와 모든 종목 다운받기 기능 만들기, 다운 받았으면 디렉토리 안의 엑셀파일의 4페이지에 양식에 맞게 파싱하기, 0797(opt10051) 도 똑같이 만들기"
   ]
  }
 ],
 "metadata": {
  "kernelspec": {
   "display_name": "py32",
   "language": "python",
   "name": "python3"
  },
  "language_info": {
   "codemirror_mode": {
    "name": "ipython",
    "version": 3
   },
   "file_extension": ".py",
   "mimetype": "text/x-python",
   "name": "python",
   "nbconvert_exporter": "python",
   "pygments_lexer": "ipython3",
   "version": "3.10.4"
  },
  "orig_nbformat": 4
 },
 "nbformat": 4,
 "nbformat_minor": 2
}
